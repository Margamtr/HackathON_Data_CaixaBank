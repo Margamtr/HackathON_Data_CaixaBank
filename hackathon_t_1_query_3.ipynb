{
 "cells": [
  {
   "cell_type": "code",
   "execution_count": 1,
   "metadata": {},
   "outputs": [],
   "source": [
    "import pandas as pd\n",
    "import requests\n",
    "import numpy as np\n",
    "import os\n",
    "\n",
    "import json\n",
    "from pandas import json_normalize\n",
    "\n",
    "import findspark\n",
    "from pyspark.sql import SparkSession\n",
    "\n",
    "from main import funciones as fun"
   ]
  },
  {
   "cell_type": "markdown",
   "metadata": {},
   "source": [
    "# solución Querys\n",
    "## Parte 3\n",
    "\n",
    "query_3: The transaction_id of an Online purchase on a 31st of December with the highest absolute amount (either earnings or expenses).\n",
    "\n",
    "\n",
    "Haciendo una revisión rápida en Excel, vemos que son mas de 10 millones de filas. \n",
    "Para poder procesar los datos y realizar las querys usaré *Apache Sparck *.\n",
    "\n"
   ]
  },
  {
   "cell_type": "code",
   "execution_count": 2,
   "metadata": {},
   "outputs": [
    {
     "data": {
      "text/html": [
       "\n",
       "            <div>\n",
       "                <p><b>SparkSession - in-memory</b></p>\n",
       "                \n",
       "        <div>\n",
       "            <p><b>SparkContext</b></p>\n",
       "\n",
       "            <p><a href=\"http://LAPTOP-NPF8U9D3:4040\">Spark UI</a></p>\n",
       "\n",
       "            <dl>\n",
       "              <dt>Version</dt>\n",
       "                <dd><code>v3.5.3</code></dd>\n",
       "              <dt>Master</dt>\n",
       "                <dd><code>local[*]</code></dd>\n",
       "              <dt>AppName</dt>\n",
       "                <dd><code>Hackathon_query_3_transactions</code></dd>\n",
       "            </dl>\n",
       "        </div>\n",
       "        \n",
       "            </div>\n",
       "        "
      ],
      "text/plain": [
       "<pyspark.sql.session.SparkSession at 0x2045e9dfaf0>"
      ]
     },
     "execution_count": 2,
     "metadata": {},
     "output_type": "execute_result"
    }
   ],
   "source": [
    "spark=SparkSession.builder.appName(\"Hackathon_query_3_transactions\").getOrCreate()\n",
    "spark"
   ]
  },
  {
   "cell_type": "code",
   "execution_count": 3,
   "metadata": {},
   "outputs": [],
   "source": [
    "df_transactions=spark.read.option(\"inferSchema\",\"true\").option(\"header\",\"true\").csv(\"transactions_data.csv\")"
   ]
  },
  {
   "cell_type": "code",
   "execution_count": 4,
   "metadata": {},
   "outputs": [
    {
     "data": {
      "text/plain": [
       "13305915"
      ]
     },
     "execution_count": 4,
     "metadata": {},
     "output_type": "execute_result"
    }
   ],
   "source": [
    "df_transactions.count()"
   ]
  },
  {
   "cell_type": "code",
   "execution_count": 5,
   "metadata": {},
   "outputs": [
    {
     "name": "stdout",
     "output_type": "stream",
     "text": [
      "+-------+-------------------+---------+-------+-------+------------------+-----------+---------------+--------------+-------+----+------+\n",
      "|     id|               date|client_id|card_id| amount|          use_chip|merchant_id|  merchant_city|merchant_state|    zip| mcc|errors|\n",
      "+-------+-------------------+---------+-------+-------+------------------+-----------+---------------+--------------+-------+----+------+\n",
      "|7475327|2010-01-01 00:01:00|     1556|   2972|$-77.00| Swipe Transaction|      59935|         Beulah|            ND|58523.0|5499|  NULL|\n",
      "|7475328|2010-01-01 00:02:00|      561|   4575| $14.57| Swipe Transaction|      67570|     Bettendorf|            IA|52722.0|5311|  NULL|\n",
      "|7475329|2010-01-01 00:02:00|     1129|    102| $80.00| Swipe Transaction|      27092|          Vista|            CA|92084.0|4829|  NULL|\n",
      "|7475331|2010-01-01 00:05:00|      430|   2860|$200.00| Swipe Transaction|      27092|    Crown Point|            IN|46307.0|4829|  NULL|\n",
      "|7475332|2010-01-01 00:06:00|      848|   3915| $46.41| Swipe Transaction|      13051|        Harwood|            MD|20776.0|5813|  NULL|\n",
      "|7475333|2010-01-01 00:07:00|     1807|    165|  $4.81| Swipe Transaction|      20519|          Bronx|            NY|10464.0|5942|  NULL|\n",
      "|7475334|2010-01-01 00:09:00|     1556|   2972| $77.00| Swipe Transaction|      59935|         Beulah|            ND|58523.0|5499|  NULL|\n",
      "|7475335|2010-01-01 00:14:00|     1684|   2140| $26.46|Online Transaction|      39021|         ONLINE|          NULL|   NULL|4784|  NULL|\n",
      "|7475336|2010-01-01 00:21:00|      335|   5131|$261.58|Online Transaction|      50292|         ONLINE|          NULL|   NULL|7801|  NULL|\n",
      "|7475337|2010-01-01 00:21:00|      351|   1112| $10.74| Swipe Transaction|       3864|       Flushing|            NY|11355.0|5813|  NULL|\n",
      "|7475338|2010-01-01 00:23:00|      554|   3912|  $3.51| Swipe Transaction|      67570|       Pearland|            TX|77581.0|5311|  NULL|\n",
      "|7475339|2010-01-01 00:23:00|      605|   5061|  $2.58| Swipe Transaction|      75781|       Brooklyn|            NY|11210.0|5411|  NULL|\n",
      "|7475340|2010-01-01 00:26:00|     1556|   2972| $39.63| Swipe Transaction|      59935|         Beulah|            ND|58523.0|5499|  NULL|\n",
      "|7475341|2010-01-01 00:27:00|     1797|   1127| $43.33| Swipe Transaction|      33326|        Kahului|            HI|96732.0|4121|  NULL|\n",
      "|7475342|2010-01-01 00:30:00|      114|   3398| $49.42| Swipe Transaction|      61195|North Hollywood|            CA|91606.0|5541|  NULL|\n",
      "|7475343|2010-01-01 00:31:00|     1634|   2464|  $1.09| Swipe Transaction|      20519|     San Benito|            TX|78586.0|5942|  NULL|\n",
      "|7475344|2010-01-01 00:32:00|      646|   2093| $73.79| Swipe Transaction|       1636|           Erie|            PA|16511.0|7538|  NULL|\n",
      "|7475345|2010-01-01 00:32:00|     1129|   5492|$100.00| Swipe Transaction|      27092|          Vista|            CA|92084.0|4829|  NULL|\n",
      "|7475346|2010-01-01 00:34:00|      394|   4717| $26.04|Online Transaction|      39021|         ONLINE|          NULL|   NULL|4784|  NULL|\n",
      "|7475347|2010-01-01 00:36:00|      114|   3398|$-64.00| Swipe Transaction|      61195|North Hollywood|            CA|91606.0|5541|  NULL|\n",
      "+-------+-------------------+---------+-------+-------+------------------+-----------+---------------+--------------+-------+----+------+\n",
      "only showing top 20 rows\n",
      "\n"
     ]
    }
   ],
   "source": [
    "df_transactions.show()"
   ]
  },
  {
   "cell_type": "code",
   "execution_count": 6,
   "metadata": {},
   "outputs": [
    {
     "data": {
      "text/plain": [
       "DataFrame[id: int, date: timestamp, client_id: int, card_id: int, amount: string, use_chip: string, merchant_id: int, merchant_city: string, merchant_state: string, zip: double, mcc: int, errors: string]"
      ]
     },
     "execution_count": 6,
     "metadata": {},
     "output_type": "execute_result"
    }
   ],
   "source": [
    "df_transactions"
   ]
  },
  {
   "cell_type": "code",
   "execution_count": 22,
   "metadata": {},
   "outputs": [],
   "source": [
    "import pyspark.sql.functions as sfunc\n",
    "from pyspark.sql.functions import max\n",
    "from pyspark.sql.functions import col\n",
    "from datetime import  datetime, date\n",
    "from pyspark.sql.functions import month\n",
    "from pyspark.sql.functions import day"
   ]
  },
  {
   "cell_type": "code",
   "execution_count": 14,
   "metadata": {},
   "outputs": [
    {
     "name": "stdout",
     "output_type": "stream",
     "text": [
      "+-------------------+-------------------+\n",
      "|          min(date)|          max(date)|\n",
      "+-------------------+-------------------+\n",
      "|2010-01-01 00:01:00|2019-10-31 23:59:00|\n",
      "+-------------------+-------------------+\n",
      "\n"
     ]
    }
   ],
   "source": [
    "df_min_max_date=df_transactions.select(sfunc.min(\"date\"), sfunc.max(\"date\"))\n",
    "df_min_max_date.show()"
   ]
  },
  {
   "cell_type": "code",
   "execution_count": 25,
   "metadata": {},
   "outputs": [
    {
     "name": "stdout",
     "output_type": "stream",
     "text": [
      "+-------+-------------------+---------+-------+-------+------------------+-----------+---------------+--------------+-------+----+------+------------+\n",
      "|     id|               date|client_id|card_id| amount|          use_chip|merchant_id|  merchant_city|merchant_state|    zip| mcc|errors|month_transc|\n",
      "+-------+-------------------+---------+-------+-------+------------------+-----------+---------------+--------------+-------+----+------+------------+\n",
      "|7475327|2010-01-01 00:01:00|     1556|   2972|$-77.00| Swipe Transaction|      59935|         Beulah|            ND|58523.0|5499|  NULL|           1|\n",
      "|7475328|2010-01-01 00:02:00|      561|   4575| $14.57| Swipe Transaction|      67570|     Bettendorf|            IA|52722.0|5311|  NULL|           1|\n",
      "|7475329|2010-01-01 00:02:00|     1129|    102| $80.00| Swipe Transaction|      27092|          Vista|            CA|92084.0|4829|  NULL|           1|\n",
      "|7475331|2010-01-01 00:05:00|      430|   2860|$200.00| Swipe Transaction|      27092|    Crown Point|            IN|46307.0|4829|  NULL|           1|\n",
      "|7475332|2010-01-01 00:06:00|      848|   3915| $46.41| Swipe Transaction|      13051|        Harwood|            MD|20776.0|5813|  NULL|           1|\n",
      "|7475333|2010-01-01 00:07:00|     1807|    165|  $4.81| Swipe Transaction|      20519|          Bronx|            NY|10464.0|5942|  NULL|           1|\n",
      "|7475334|2010-01-01 00:09:00|     1556|   2972| $77.00| Swipe Transaction|      59935|         Beulah|            ND|58523.0|5499|  NULL|           1|\n",
      "|7475335|2010-01-01 00:14:00|     1684|   2140| $26.46|Online Transaction|      39021|         ONLINE|          NULL|   NULL|4784|  NULL|           1|\n",
      "|7475336|2010-01-01 00:21:00|      335|   5131|$261.58|Online Transaction|      50292|         ONLINE|          NULL|   NULL|7801|  NULL|           1|\n",
      "|7475337|2010-01-01 00:21:00|      351|   1112| $10.74| Swipe Transaction|       3864|       Flushing|            NY|11355.0|5813|  NULL|           1|\n",
      "|7475338|2010-01-01 00:23:00|      554|   3912|  $3.51| Swipe Transaction|      67570|       Pearland|            TX|77581.0|5311|  NULL|           1|\n",
      "|7475339|2010-01-01 00:23:00|      605|   5061|  $2.58| Swipe Transaction|      75781|       Brooklyn|            NY|11210.0|5411|  NULL|           1|\n",
      "|7475340|2010-01-01 00:26:00|     1556|   2972| $39.63| Swipe Transaction|      59935|         Beulah|            ND|58523.0|5499|  NULL|           1|\n",
      "|7475341|2010-01-01 00:27:00|     1797|   1127| $43.33| Swipe Transaction|      33326|        Kahului|            HI|96732.0|4121|  NULL|           1|\n",
      "|7475342|2010-01-01 00:30:00|      114|   3398| $49.42| Swipe Transaction|      61195|North Hollywood|            CA|91606.0|5541|  NULL|           1|\n",
      "|7475343|2010-01-01 00:31:00|     1634|   2464|  $1.09| Swipe Transaction|      20519|     San Benito|            TX|78586.0|5942|  NULL|           1|\n",
      "|7475344|2010-01-01 00:32:00|      646|   2093| $73.79| Swipe Transaction|       1636|           Erie|            PA|16511.0|7538|  NULL|           1|\n",
      "|7475345|2010-01-01 00:32:00|     1129|   5492|$100.00| Swipe Transaction|      27092|          Vista|            CA|92084.0|4829|  NULL|           1|\n",
      "|7475346|2010-01-01 00:34:00|      394|   4717| $26.04|Online Transaction|      39021|         ONLINE|          NULL|   NULL|4784|  NULL|           1|\n",
      "|7475347|2010-01-01 00:36:00|      114|   3398|$-64.00| Swipe Transaction|      61195|North Hollywood|            CA|91606.0|5541|  NULL|           1|\n",
      "+-------+-------------------+---------+-------+-------+------------------+-----------+---------------+--------------+-------+----+------+------------+\n",
      "only showing top 20 rows\n",
      "\n"
     ]
    }
   ],
   "source": [
    "df1=df_transactions.withColumn(\"month_transc\", month(df_transactions.date))\n",
    "df1.show()"
   ]
  },
  {
   "cell_type": "code",
   "execution_count": 27,
   "metadata": {},
   "outputs": [],
   "source": [
    "df_diciembre=df1.filter(df1.month_transc == 12)"
   ]
  },
  {
   "cell_type": "code",
   "execution_count": 28,
   "metadata": {},
   "outputs": [
    {
     "name": "stdout",
     "output_type": "stream",
     "text": [
      "+-------+-------------------+---------+-------+-------+------------------+-----------+---------------+--------------+-------+----+------+------------+----------+\n",
      "|     id|               date|client_id|card_id| amount|          use_chip|merchant_id|  merchant_city|merchant_state|    zip| mcc|errors|month_transc|day_transc|\n",
      "+-------+-------------------+---------+-------+-------+------------------+-----------+---------------+--------------+-------+----+------+------------+----------+\n",
      "|8835666|2010-12-01 00:01:00|      641|     14| $63.17| Swipe Transaction|      26549|       Columbus|            OH|43228.0|5912|  NULL|          12|         1|\n",
      "|8835667|2010-12-01 00:03:00|      530|   5110|  $9.80| Swipe Transaction|      50783|    Bloomington|            CA|92316.0|5411|  NULL|          12|         1|\n",
      "|8835668|2010-12-01 00:03:00|     1684|     94| $37.28|Online Transaction|      39021|         ONLINE|          NULL|   NULL|4784|  NULL|          12|         1|\n",
      "|8835669|2010-12-01 00:07:00|      605|    212|  $2.51| Swipe Transaction|      59935|       Brooklyn|            NY|11210.0|5499|  NULL|          12|         1|\n",
      "|8835670|2010-12-01 00:08:00|      554|   2424|  $4.78| Swipe Transaction|      21739|       La Porte|            TX|77571.0|5300|  NULL|          12|         1|\n",
      "|8835672|2010-12-01 00:11:00|     1129|    102|$100.00| Swipe Transaction|      27092|          Vista|            CA|92084.0|4829|  NULL|          12|         1|\n",
      "|8835674|2010-12-01 00:18:00|      287|   4118| $26.32| Swipe Transaction|      70904|      Hitchcock|            TX|77563.0|5912|  NULL|          12|         1|\n",
      "|8835675|2010-12-01 00:20:00|      895|    217|$127.13| Swipe Transaction|      86616|         Colton|            CA|92324.0|4814|  NULL|          12|         1|\n",
      "|8835676|2010-12-01 00:20:00|     1557|   2471| $17.32| Swipe Transaction|      83092|      Beaverton|            OR|97008.0|5912|  NULL|          12|         1|\n",
      "|8835677|2010-12-01 00:20:00|     1909|   1136|  $8.12| Swipe Transaction|      37074|    Los Angeles|            CA|90007.0|5813|  NULL|          12|         1|\n",
      "|8835678|2010-12-01 00:21:00|      316|   5857|$105.78| Swipe Transaction|      20561|        Houston|            TX|77048.0|5912|  NULL|          12|         1|\n",
      "|8835679|2010-12-01 00:21:00|     1797|   1127| $44.20|Online Transaction|      18563|         ONLINE|          NULL|   NULL|4121|  NULL|          12|         1|\n",
      "|8835680|2010-12-01 00:24:00|      430|   2860|$140.00| Swipe Transaction|      27092|    Crown Point|            IN|46307.0|4829|  NULL|          12|         1|\n",
      "|8835681|2010-12-01 00:27:00|      984|   4088| $16.44| Swipe Transaction|      78603|      Kissimmee|            FL|34746.0|5813|  NULL|          12|         1|\n",
      "|8835682|2010-12-01 00:29:00|     1851|   3890| $57.05| Swipe Transaction|      30286|          Selma|            NC|27576.0|4814|  NULL|          12|         1|\n",
      "|8835683|2010-12-01 00:37:00|      121|   5952| $86.77| Swipe Transaction|      81833|        Menasha|            WI|54952.0|5912|  NULL|          12|         1|\n",
      "|8835685|2010-12-01 00:39:00|      114|   3070| $60.91| Swipe Transaction|      59935|North Hollywood|            CA|91606.0|5499|  NULL|          12|         1|\n",
      "|8835684|2010-12-01 00:39:00|      114|   3070|$-80.00| Swipe Transaction|      59935|North Hollywood|            CA|91606.0|5499|  NULL|          12|         1|\n",
      "|8835686|2010-12-01 00:39:00|     1284|    172| $16.02| Swipe Transaction|      50783|        Harwich|            MA| 2645.0|5411|  NULL|          12|         1|\n",
      "|8835687|2010-12-01 00:39:00|     1682|   3407| $16.62| Swipe Transaction|      97393|        Orlando|            FL|32818.0|5411|  NULL|          12|         1|\n",
      "+-------+-------------------+---------+-------+-------+------------------+-----------+---------------+--------------+-------+----+------+------------+----------+\n",
      "only showing top 20 rows\n",
      "\n"
     ]
    }
   ],
   "source": [
    "df1=df_diciembre.withColumn(\"day_transc\", day(df_transactions.date))\n",
    "df1.show()"
   ]
  },
  {
   "cell_type": "code",
   "execution_count": 33,
   "metadata": {},
   "outputs": [
    {
     "name": "stdout",
     "output_type": "stream",
     "text": [
      "+-------+-------------------+---------+-------+-------+------------------+-----------+-----------------+--------------+-------+----+-------+------------+----------+\n",
      "|     id|               date|client_id|card_id| amount|          use_chip|merchant_id|    merchant_city|merchant_state|    zip| mcc| errors|month_transc|day_transc|\n",
      "+-------+-------------------+---------+-------+-------+------------------+-----------+-----------------+--------------+-------+----+-------+------------+----------+\n",
      "|8962673|2010-12-31 00:01:00|     1684|     94| $23.16|Online Transaction|      39021|           ONLINE|          NULL|   NULL|4784|   NULL|          12|        31|\n",
      "|8962676|2010-12-31 00:05:00|      641|   4718| $90.01| Swipe Transaction|       4312|          Chicago|            IL|60639.0|5411|   NULL|          12|        31|\n",
      "|8962677|2010-12-31 00:06:00|      848|   3915| $60.28| Swipe Transaction|      13051|          Harwood|            MD|20776.0|5813|   NULL|          12|        31|\n",
      "|8962678|2010-12-31 00:08:00|      386|   3673| $86.57|Online Transaction|      80770|           ONLINE|          NULL|   NULL|7922|   NULL|          12|        31|\n",
      "|8962679|2010-12-31 00:08:00|     1797|   1127| $38.06| Swipe Transaction|      54343|      San Leandro|            CA|94577.0|4121|Bad PIN|          12|        31|\n",
      "|8962680|2010-12-31 00:09:00|     1556|   4333|$-59.00| Swipe Transaction|      59935|           Beulah|            ND|58523.0|5499|   NULL|          12|        31|\n",
      "|8962681|2010-12-31 00:16:00|     1129|    102|$100.00| Swipe Transaction|      27092|            Vista|            CA|92084.0|4829|   NULL|          12|        31|\n",
      "|8962682|2010-12-31 00:16:00|     1556|   4333| $59.00| Swipe Transaction|      59935|           Beulah|            ND|58523.0|5499|   NULL|          12|        31|\n",
      "|8962683|2010-12-31 00:16:00|     1697|   3295|  $0.43| Swipe Transaction|      50783|           Horton|            MI|49246.0|5411|   NULL|          12|        31|\n",
      "|8962684|2010-12-31 00:18:00|      552|   3275|$185.16| Swipe Transaction|      54912|      Gainesville|            FL|32608.0|4900|   NULL|          12|        31|\n",
      "|8962686|2010-12-31 00:19:00|     1575|   2112| $31.73|Online Transaction|      16798|           ONLINE|          NULL|   NULL|4121|   NULL|          12|        31|\n",
      "|8962687|2010-12-31 00:21:00|       53|   3267|  $4.52| Swipe Transaction|      18215|        Elk Grove|            CA|95758.0|5719|   NULL|          12|        31|\n",
      "|8962688|2010-12-31 00:22:00|      430|   3433|$120.00| Swipe Transaction|      27092|      Crown Point|            IN|46307.0|4829|   NULL|          12|        31|\n",
      "|8962689|2010-12-31 00:23:00|     1941|   1109| $11.94| Swipe Transaction|      56241|         Campbell|            TX|75422.0|5310|   NULL|          12|        31|\n",
      "|8962690|2010-12-31 00:24:00|     1635|    115| $36.81| Swipe Transaction|      59397| Canal Winchester|            OH|43110.0|5812|   NULL|          12|        31|\n",
      "|8962691|2010-12-31 00:25:00|      316|   2038|$105.74| Swipe Transaction|      75781|          Houston|            TX|77051.0|5411|   NULL|          12|        31|\n",
      "|8962692|2010-12-31 00:26:00|     1195|   3219| $79.75| Swipe Transaction|      64057|Arlington Heights|            IL|60006.0|4111|   NULL|          12|        31|\n",
      "|8962693|2010-12-31 00:26:00|     1556|   4333| $52.95| Swipe Transaction|      59935|           Beulah|            ND|58523.0|5499|   NULL|          12|        31|\n",
      "|8962694|2010-12-31 00:28:00|     1477|   3747|$149.34| Swipe Transaction|      30286|        Johnstown|            OH|43031.0|4814|   NULL|          12|        31|\n",
      "|8962695|2010-12-31 00:29:00|      554|   4275|  $3.70| Swipe Transaction|      21739|         La Porte|            TX|77571.0|5300|   NULL|          12|        31|\n",
      "+-------+-------------------+---------+-------+-------+------------------+-----------+-----------------+--------------+-------+----+-------+------------+----------+\n",
      "only showing top 20 rows\n",
      "\n"
     ]
    }
   ],
   "source": [
    "df_diciembre_31=df1.filter((df1.month_transc == 12) & (df1.day_transc == 31))\n",
    "df_diciembre.show()"
   ]
  },
  {
   "cell_type": "code",
   "execution_count": 34,
   "metadata": {},
   "outputs": [
    {
     "data": {
      "text/plain": [
       "30776"
      ]
     },
     "execution_count": 34,
     "metadata": {},
     "output_type": "execute_result"
    }
   ],
   "source": [
    "df_diciembre_31.count()"
   ]
  },
  {
   "cell_type": "code",
   "execution_count": 35,
   "metadata": {},
   "outputs": [],
   "source": [
    "df_diciembre_31_transc=df_diciembre_31.toPandas()"
   ]
  },
  {
   "cell_type": "code",
   "execution_count": 54,
   "metadata": {},
   "outputs": [],
   "source": [
    "spark.stop()"
   ]
  },
  {
   "cell_type": "code",
   "execution_count": 38,
   "metadata": {},
   "outputs": [
    {
     "name": "stdout",
     "output_type": "stream",
     "text": [
      "Muestra de datos:\n"
     ]
    },
    {
     "data": {
      "text/html": [
       "<div>\n",
       "<style scoped>\n",
       "    .dataframe tbody tr th:only-of-type {\n",
       "        vertical-align: middle;\n",
       "    }\n",
       "\n",
       "    .dataframe tbody tr th {\n",
       "        vertical-align: top;\n",
       "    }\n",
       "\n",
       "    .dataframe thead th {\n",
       "        text-align: right;\n",
       "    }\n",
       "</style>\n",
       "<table border=\"1\" class=\"dataframe\">\n",
       "  <thead>\n",
       "    <tr style=\"text-align: right;\">\n",
       "      <th></th>\n",
       "      <th>id</th>\n",
       "      <th>date</th>\n",
       "      <th>client_id</th>\n",
       "      <th>card_id</th>\n",
       "      <th>amount</th>\n",
       "      <th>use_chip</th>\n",
       "      <th>merchant_id</th>\n",
       "      <th>merchant_city</th>\n",
       "      <th>merchant_state</th>\n",
       "      <th>zip</th>\n",
       "      <th>mcc</th>\n",
       "      <th>errors</th>\n",
       "      <th>month_transc</th>\n",
       "      <th>day_transc</th>\n",
       "    </tr>\n",
       "  </thead>\n",
       "  <tbody>\n",
       "    <tr>\n",
       "      <th>27919</th>\n",
       "      <td>22322922</td>\n",
       "      <td>2018-12-31 07:54:00</td>\n",
       "      <td>1435</td>\n",
       "      <td>4840</td>\n",
       "      <td>$4.66</td>\n",
       "      <td>Chip Transaction</td>\n",
       "      <td>9254</td>\n",
       "      <td>Alpharetta</td>\n",
       "      <td>GA</td>\n",
       "      <td>30004.0</td>\n",
       "      <td>5812</td>\n",
       "      <td>None</td>\n",
       "      <td>12</td>\n",
       "      <td>31</td>\n",
       "    </tr>\n",
       "    <tr>\n",
       "      <th>14007</th>\n",
       "      <td>15467739</td>\n",
       "      <td>2014-12-31 08:31:00</td>\n",
       "      <td>879</td>\n",
       "      <td>4500</td>\n",
       "      <td>$50.94</td>\n",
       "      <td>Swipe Transaction</td>\n",
       "      <td>27681</td>\n",
       "      <td>Brownsville</td>\n",
       "      <td>TX</td>\n",
       "      <td>78521.0</td>\n",
       "      <td>7230</td>\n",
       "      <td>None</td>\n",
       "      <td>12</td>\n",
       "      <td>31</td>\n",
       "    </tr>\n",
       "  </tbody>\n",
       "</table>\n",
       "</div>"
      ],
      "text/plain": [
       "             id                date  client_id  card_id  amount  \\\n",
       "27919  22322922 2018-12-31 07:54:00       1435     4840   $4.66   \n",
       "14007  15467739 2014-12-31 08:31:00        879     4500  $50.94   \n",
       "\n",
       "                use_chip  merchant_id merchant_city merchant_state      zip  \\\n",
       "27919   Chip Transaction         9254    Alpharetta             GA  30004.0   \n",
       "14007  Swipe Transaction        27681   Brownsville             TX  78521.0   \n",
       "\n",
       "        mcc errors  month_transc  day_transc  \n",
       "27919  5812   None            12          31  \n",
       "14007  7230   None            12          31  "
      ]
     },
     "metadata": {},
     "output_type": "display_data"
    },
    {
     "name": "stdout",
     "output_type": "stream",
     "text": [
      "Columnas: 14\n",
      "Filas: 30776\n",
      "Valores duplicados:0\n",
      "Valores nulos encontrados:\n",
      "id                    0\n",
      "date                  0\n",
      "client_id             0\n",
      "card_id               0\n",
      "amount                0\n",
      "use_chip              0\n",
      "merchant_id           0\n",
      "merchant_city         0\n",
      "merchant_state     3737\n",
      "zip                3968\n",
      "mcc                   0\n",
      "errors            30269\n",
      "month_transc          0\n",
      "day_transc            0\n",
      "dtype: int64\n",
      "Información general:\n",
      "<class 'pandas.core.frame.DataFrame'>\n",
      "RangeIndex: 30776 entries, 0 to 30775\n",
      "Data columns (total 14 columns):\n",
      " #   Column          Non-Null Count  Dtype         \n",
      "---  ------          --------------  -----         \n",
      " 0   id              30776 non-null  int32         \n",
      " 1   date            30776 non-null  datetime64[ns]\n",
      " 2   client_id       30776 non-null  int32         \n",
      " 3   card_id         30776 non-null  int32         \n",
      " 4   amount          30776 non-null  object        \n",
      " 5   use_chip        30776 non-null  object        \n",
      " 6   merchant_id     30776 non-null  int32         \n",
      " 7   merchant_city   30776 non-null  object        \n",
      " 8   merchant_state  27039 non-null  object        \n",
      " 9   zip             26808 non-null  float64       \n",
      " 10  mcc             30776 non-null  int32         \n",
      " 11  errors          507 non-null    object        \n",
      " 12  month_transc    30776 non-null  int32         \n",
      " 13  day_transc      30776 non-null  int32         \n",
      "dtypes: datetime64[ns](1), float64(1), int32(7), object(5)\n",
      "memory usage: 2.5+ MB\n",
      "None\n"
     ]
    }
   ],
   "source": [
    "fun.eda_basico(df_diciembre_31_transc)"
   ]
  },
  {
   "cell_type": "code",
   "execution_count": 44,
   "metadata": {},
   "outputs": [],
   "source": [
    "df_diciembre_31_transc[\"amount\"]=df_diciembre_31_transc[\"amount\"].str.replace(\"$\",\"\")"
   ]
  },
  {
   "cell_type": "code",
   "execution_count": 45,
   "metadata": {},
   "outputs": [
    {
     "name": "stdout",
     "output_type": "stream",
     "text": [
      "<class 'pandas.core.frame.DataFrame'>\n",
      "RangeIndex: 30776 entries, 0 to 30775\n",
      "Data columns (total 14 columns):\n",
      " #   Column          Non-Null Count  Dtype         \n",
      "---  ------          --------------  -----         \n",
      " 0   id              30776 non-null  int32         \n",
      " 1   date            30776 non-null  datetime64[ns]\n",
      " 2   client_id       30776 non-null  int32         \n",
      " 3   card_id         30776 non-null  int32         \n",
      " 4   amount          30776 non-null  object        \n",
      " 5   use_chip        30776 non-null  object        \n",
      " 6   merchant_id     30776 non-null  int32         \n",
      " 7   merchant_city   30776 non-null  object        \n",
      " 8   merchant_state  27039 non-null  object        \n",
      " 9   zip             26808 non-null  float64       \n",
      " 10  mcc             30776 non-null  int32         \n",
      " 11  errors          507 non-null    object        \n",
      " 12  month_transc    30776 non-null  int32         \n",
      " 13  day_transc      30776 non-null  int32         \n",
      "dtypes: datetime64[ns](1), float64(1), int32(7), object(5)\n",
      "memory usage: 2.5+ MB\n"
     ]
    }
   ],
   "source": [
    "df_diciembre_31_transc.info()"
   ]
  },
  {
   "cell_type": "code",
   "execution_count": 46,
   "metadata": {},
   "outputs": [],
   "source": [
    "df_diciembre_31_transc[\"amount\"]=df_diciembre_31_transc[\"amount\"].astype(float)"
   ]
  },
  {
   "cell_type": "code",
   "execution_count": 47,
   "metadata": {},
   "outputs": [
    {
     "data": {
      "text/plain": [
       "dtype('float64')"
      ]
     },
     "execution_count": 47,
     "metadata": {},
     "output_type": "execute_result"
    }
   ],
   "source": [
    "df_diciembre_31_transc[\"amount\"].dtype"
   ]
  },
  {
   "cell_type": "code",
   "execution_count": 48,
   "metadata": {},
   "outputs": [
    {
     "data": {
      "text/html": [
       "<div>\n",
       "<style scoped>\n",
       "    .dataframe tbody tr th:only-of-type {\n",
       "        vertical-align: middle;\n",
       "    }\n",
       "\n",
       "    .dataframe tbody tr th {\n",
       "        vertical-align: top;\n",
       "    }\n",
       "\n",
       "    .dataframe thead th {\n",
       "        text-align: right;\n",
       "    }\n",
       "</style>\n",
       "<table border=\"1\" class=\"dataframe\">\n",
       "  <thead>\n",
       "    <tr style=\"text-align: right;\">\n",
       "      <th></th>\n",
       "      <th>id</th>\n",
       "      <th>date</th>\n",
       "      <th>client_id</th>\n",
       "      <th>card_id</th>\n",
       "      <th>amount</th>\n",
       "      <th>use_chip</th>\n",
       "      <th>merchant_id</th>\n",
       "      <th>merchant_city</th>\n",
       "      <th>merchant_state</th>\n",
       "      <th>zip</th>\n",
       "      <th>mcc</th>\n",
       "      <th>errors</th>\n",
       "      <th>month_transc</th>\n",
       "      <th>day_transc</th>\n",
       "    </tr>\n",
       "  </thead>\n",
       "  <tbody>\n",
       "    <tr>\n",
       "      <th>26455</th>\n",
       "      <td>20603749</td>\n",
       "      <td>2017-12-31 16:44:00</td>\n",
       "      <td>1202</td>\n",
       "      <td>2885</td>\n",
       "      <td>8.17</td>\n",
       "      <td>Online Transaction</td>\n",
       "      <td>9932</td>\n",
       "      <td>ONLINE</td>\n",
       "      <td>None</td>\n",
       "      <td>NaN</td>\n",
       "      <td>5311</td>\n",
       "      <td>None</td>\n",
       "      <td>12</td>\n",
       "      <td>31</td>\n",
       "    </tr>\n",
       "    <tr>\n",
       "      <th>19459</th>\n",
       "      <td>17171593</td>\n",
       "      <td>2015-12-31 17:13:00</td>\n",
       "      <td>823</td>\n",
       "      <td>5524</td>\n",
       "      <td>16.54</td>\n",
       "      <td>Chip Transaction</td>\n",
       "      <td>15961</td>\n",
       "      <td>Suffolk</td>\n",
       "      <td>VA</td>\n",
       "      <td>23434.0</td>\n",
       "      <td>7832</td>\n",
       "      <td>None</td>\n",
       "      <td>12</td>\n",
       "      <td>31</td>\n",
       "    </tr>\n",
       "    <tr>\n",
       "      <th>12345</th>\n",
       "      <td>13797689</td>\n",
       "      <td>2013-12-31 16:22:00</td>\n",
       "      <td>1682</td>\n",
       "      <td>3407</td>\n",
       "      <td>11.30</td>\n",
       "      <td>Swipe Transaction</td>\n",
       "      <td>81833</td>\n",
       "      <td>Grand Forks</td>\n",
       "      <td>ND</td>\n",
       "      <td>58203.0</td>\n",
       "      <td>5912</td>\n",
       "      <td>None</td>\n",
       "      <td>12</td>\n",
       "      <td>31</td>\n",
       "    </tr>\n",
       "    <tr>\n",
       "      <th>6093</th>\n",
       "      <td>10536767</td>\n",
       "      <td>2011-12-31 20:44:00</td>\n",
       "      <td>323</td>\n",
       "      <td>5977</td>\n",
       "      <td>13.04</td>\n",
       "      <td>Swipe Transaction</td>\n",
       "      <td>26810</td>\n",
       "      <td>Hilmar</td>\n",
       "      <td>CA</td>\n",
       "      <td>95324.0</td>\n",
       "      <td>5541</td>\n",
       "      <td>None</td>\n",
       "      <td>12</td>\n",
       "      <td>31</td>\n",
       "    </tr>\n",
       "    <tr>\n",
       "      <th>24954</th>\n",
       "      <td>20601899</td>\n",
       "      <td>2017-12-31 10:38:00</td>\n",
       "      <td>756</td>\n",
       "      <td>3963</td>\n",
       "      <td>117.03</td>\n",
       "      <td>Chip Transaction</td>\n",
       "      <td>27601</td>\n",
       "      <td>Bellbrook</td>\n",
       "      <td>OH</td>\n",
       "      <td>45305.0</td>\n",
       "      <td>7538</td>\n",
       "      <td>None</td>\n",
       "      <td>12</td>\n",
       "      <td>31</td>\n",
       "    </tr>\n",
       "  </tbody>\n",
       "</table>\n",
       "</div>"
      ],
      "text/plain": [
       "             id                date  client_id  card_id  amount  \\\n",
       "26455  20603749 2017-12-31 16:44:00       1202     2885    8.17   \n",
       "19459  17171593 2015-12-31 17:13:00        823     5524   16.54   \n",
       "12345  13797689 2013-12-31 16:22:00       1682     3407   11.30   \n",
       "6093   10536767 2011-12-31 20:44:00        323     5977   13.04   \n",
       "24954  20601899 2017-12-31 10:38:00        756     3963  117.03   \n",
       "\n",
       "                 use_chip  merchant_id merchant_city merchant_state      zip  \\\n",
       "26455  Online Transaction         9932        ONLINE           None      NaN   \n",
       "19459    Chip Transaction        15961       Suffolk             VA  23434.0   \n",
       "12345   Swipe Transaction        81833   Grand Forks             ND  58203.0   \n",
       "6093    Swipe Transaction        26810        Hilmar             CA  95324.0   \n",
       "24954    Chip Transaction        27601     Bellbrook             OH  45305.0   \n",
       "\n",
       "        mcc errors  month_transc  day_transc  \n",
       "26455  5311   None            12          31  \n",
       "19459  7832   None            12          31  \n",
       "12345  5912   None            12          31  \n",
       "6093   5541   None            12          31  \n",
       "24954  7538   None            12          31  "
      ]
     },
     "execution_count": 48,
     "metadata": {},
     "output_type": "execute_result"
    }
   ],
   "source": [
    "df_diciembre_31_transc.sample(5)"
   ]
  },
  {
   "cell_type": "code",
   "execution_count": 50,
   "metadata": {},
   "outputs": [
    {
     "data": {
      "text/html": [
       "<div>\n",
       "<style scoped>\n",
       "    .dataframe tbody tr th:only-of-type {\n",
       "        vertical-align: middle;\n",
       "    }\n",
       "\n",
       "    .dataframe tbody tr th {\n",
       "        vertical-align: top;\n",
       "    }\n",
       "\n",
       "    .dataframe thead th {\n",
       "        text-align: right;\n",
       "    }\n",
       "</style>\n",
       "<table border=\"1\" class=\"dataframe\">\n",
       "  <thead>\n",
       "    <tr style=\"text-align: right;\">\n",
       "      <th></th>\n",
       "      <th>count</th>\n",
       "      <th>mean</th>\n",
       "      <th>min</th>\n",
       "      <th>25%</th>\n",
       "      <th>50%</th>\n",
       "      <th>75%</th>\n",
       "      <th>max</th>\n",
       "      <th>std</th>\n",
       "    </tr>\n",
       "  </thead>\n",
       "  <tbody>\n",
       "    <tr>\n",
       "      <th>id</th>\n",
       "      <td>30776.0</td>\n",
       "      <td>15656303.454283</td>\n",
       "      <td>8962673.0</td>\n",
       "      <td>12145299.75</td>\n",
       "      <td>15469454.5</td>\n",
       "      <td>18880611.25</td>\n",
       "      <td>22326461.0</td>\n",
       "      <td>4283793.530683</td>\n",
       "    </tr>\n",
       "    <tr>\n",
       "      <th>date</th>\n",
       "      <td>30776</td>\n",
       "      <td>2015-01-25 15:23:20.332077056</td>\n",
       "      <td>2010-12-31 00:01:00</td>\n",
       "      <td>2012-12-31 11:36:00</td>\n",
       "      <td>2014-12-31 14:35:00</td>\n",
       "      <td>2016-12-31 17:56:15</td>\n",
       "      <td>2018-12-31 23:58:00</td>\n",
       "      <td>NaN</td>\n",
       "    </tr>\n",
       "    <tr>\n",
       "      <th>client_id</th>\n",
       "      <td>30776.0</td>\n",
       "      <td>1028.375195</td>\n",
       "      <td>0.0</td>\n",
       "      <td>523.0</td>\n",
       "      <td>1072.0</td>\n",
       "      <td>1535.0</td>\n",
       "      <td>1998.0</td>\n",
       "      <td>582.71323</td>\n",
       "    </tr>\n",
       "    <tr>\n",
       "      <th>card_id</th>\n",
       "      <td>30776.0</td>\n",
       "      <td>3497.891311</td>\n",
       "      <td>0.0</td>\n",
       "      <td>2437.75</td>\n",
       "      <td>3628.5</td>\n",
       "      <td>4933.25</td>\n",
       "      <td>6137.0</td>\n",
       "      <td>1664.940711</td>\n",
       "    </tr>\n",
       "    <tr>\n",
       "      <th>amount</th>\n",
       "      <td>30776.0</td>\n",
       "      <td>43.669491</td>\n",
       "      <td>-498.0</td>\n",
       "      <td>11.18</td>\n",
       "      <td>31.61</td>\n",
       "      <td>65.4825</td>\n",
       "      <td>1184.71</td>\n",
       "      <td>71.394917</td>\n",
       "    </tr>\n",
       "    <tr>\n",
       "      <th>merchant_id</th>\n",
       "      <td>30776.0</td>\n",
       "      <td>47845.746101</td>\n",
       "      <td>22.0</td>\n",
       "      <td>26232.0</td>\n",
       "      <td>45926.0</td>\n",
       "      <td>68689.25</td>\n",
       "      <td>100340.0</td>\n",
       "      <td>26013.177227</td>\n",
       "    </tr>\n",
       "    <tr>\n",
       "      <th>zip</th>\n",
       "      <td>26808.0</td>\n",
       "      <td>52121.941249</td>\n",
       "      <td>1202.0</td>\n",
       "      <td>28801.0</td>\n",
       "      <td>48146.0</td>\n",
       "      <td>78520.0</td>\n",
       "      <td>99504.0</td>\n",
       "      <td>29375.691884</td>\n",
       "    </tr>\n",
       "    <tr>\n",
       "      <th>mcc</th>\n",
       "      <td>30776.0</td>\n",
       "      <td>5605.242462</td>\n",
       "      <td>1711.0</td>\n",
       "      <td>5300.0</td>\n",
       "      <td>5499.0</td>\n",
       "      <td>5813.0</td>\n",
       "      <td>9402.0</td>\n",
       "      <td>920.361762</td>\n",
       "    </tr>\n",
       "    <tr>\n",
       "      <th>month_transc</th>\n",
       "      <td>30776.0</td>\n",
       "      <td>12.0</td>\n",
       "      <td>12.0</td>\n",
       "      <td>12.0</td>\n",
       "      <td>12.0</td>\n",
       "      <td>12.0</td>\n",
       "      <td>12.0</td>\n",
       "      <td>0.0</td>\n",
       "    </tr>\n",
       "    <tr>\n",
       "      <th>day_transc</th>\n",
       "      <td>30776.0</td>\n",
       "      <td>31.0</td>\n",
       "      <td>31.0</td>\n",
       "      <td>31.0</td>\n",
       "      <td>31.0</td>\n",
       "      <td>31.0</td>\n",
       "      <td>31.0</td>\n",
       "      <td>0.0</td>\n",
       "    </tr>\n",
       "  </tbody>\n",
       "</table>\n",
       "</div>"
      ],
      "text/plain": [
       "                count                           mean                  min  \\\n",
       "id            30776.0                15656303.454283            8962673.0   \n",
       "date            30776  2015-01-25 15:23:20.332077056  2010-12-31 00:01:00   \n",
       "client_id     30776.0                    1028.375195                  0.0   \n",
       "card_id       30776.0                    3497.891311                  0.0   \n",
       "amount        30776.0                      43.669491               -498.0   \n",
       "merchant_id   30776.0                   47845.746101                 22.0   \n",
       "zip           26808.0                   52121.941249               1202.0   \n",
       "mcc           30776.0                    5605.242462               1711.0   \n",
       "month_transc  30776.0                           12.0                 12.0   \n",
       "day_transc    30776.0                           31.0                 31.0   \n",
       "\n",
       "                              25%                  50%                  75%  \\\n",
       "id                    12145299.75           15469454.5          18880611.25   \n",
       "date          2012-12-31 11:36:00  2014-12-31 14:35:00  2016-12-31 17:56:15   \n",
       "client_id                   523.0               1072.0               1535.0   \n",
       "card_id                   2437.75               3628.5              4933.25   \n",
       "amount                      11.18                31.61              65.4825   \n",
       "merchant_id               26232.0              45926.0             68689.25   \n",
       "zip                       28801.0              48146.0              78520.0   \n",
       "mcc                        5300.0               5499.0               5813.0   \n",
       "month_transc                 12.0                 12.0                 12.0   \n",
       "day_transc                   31.0                 31.0                 31.0   \n",
       "\n",
       "                              max             std  \n",
       "id                     22326461.0  4283793.530683  \n",
       "date          2018-12-31 23:58:00             NaN  \n",
       "client_id                  1998.0       582.71323  \n",
       "card_id                    6137.0     1664.940711  \n",
       "amount                    1184.71       71.394917  \n",
       "merchant_id              100340.0    26013.177227  \n",
       "zip                       99504.0    29375.691884  \n",
       "mcc                        9402.0      920.361762  \n",
       "month_transc                 12.0             0.0  \n",
       "day_transc                   31.0             0.0  "
      ]
     },
     "execution_count": 50,
     "metadata": {},
     "output_type": "execute_result"
    }
   ],
   "source": [
    "df_diciembre_31_transc.describe().T"
   ]
  },
  {
   "cell_type": "code",
   "execution_count": 51,
   "metadata": {},
   "outputs": [],
   "source": [
    "cond_1=df_diciembre_31_transc[\"amount\"]==df_diciembre_31_transc[\"amount\"].min()\n",
    "df_cond1=df_diciembre_31_transc[cond_1]"
   ]
  },
  {
   "cell_type": "code",
   "execution_count": 52,
   "metadata": {},
   "outputs": [
    {
     "data": {
      "text/html": [
       "<div>\n",
       "<style scoped>\n",
       "    .dataframe tbody tr th:only-of-type {\n",
       "        vertical-align: middle;\n",
       "    }\n",
       "\n",
       "    .dataframe tbody tr th {\n",
       "        vertical-align: top;\n",
       "    }\n",
       "\n",
       "    .dataframe thead th {\n",
       "        text-align: right;\n",
       "    }\n",
       "</style>\n",
       "<table border=\"1\" class=\"dataframe\">\n",
       "  <thead>\n",
       "    <tr style=\"text-align: right;\">\n",
       "      <th></th>\n",
       "      <th>id</th>\n",
       "      <th>date</th>\n",
       "      <th>client_id</th>\n",
       "      <th>card_id</th>\n",
       "      <th>amount</th>\n",
       "      <th>use_chip</th>\n",
       "      <th>merchant_id</th>\n",
       "      <th>merchant_city</th>\n",
       "      <th>merchant_state</th>\n",
       "      <th>zip</th>\n",
       "      <th>mcc</th>\n",
       "      <th>errors</th>\n",
       "      <th>month_transc</th>\n",
       "      <th>day_transc</th>\n",
       "    </tr>\n",
       "  </thead>\n",
       "  <tbody>\n",
       "    <tr>\n",
       "      <th>9461</th>\n",
       "      <td>12147446</td>\n",
       "      <td>2012-12-31 20:11:00</td>\n",
       "      <td>1781</td>\n",
       "      <td>3032</td>\n",
       "      <td>-498.0</td>\n",
       "      <td>Swipe Transaction</td>\n",
       "      <td>3558</td>\n",
       "      <td>Goshen</td>\n",
       "      <td>IN</td>\n",
       "      <td>46526.0</td>\n",
       "      <td>3640</td>\n",
       "      <td>None</td>\n",
       "      <td>12</td>\n",
       "      <td>31</td>\n",
       "    </tr>\n",
       "    <tr>\n",
       "      <th>23698</th>\n",
       "      <td>18881342</td>\n",
       "      <td>2016-12-31 22:24:00</td>\n",
       "      <td>631</td>\n",
       "      <td>2596</td>\n",
       "      <td>-498.0</td>\n",
       "      <td>Swipe Transaction</td>\n",
       "      <td>57133</td>\n",
       "      <td>Waianae</td>\n",
       "      <td>HI</td>\n",
       "      <td>96792.0</td>\n",
       "      <td>3730</td>\n",
       "      <td>None</td>\n",
       "      <td>12</td>\n",
       "      <td>31</td>\n",
       "    </tr>\n",
       "    <tr>\n",
       "      <th>27342</th>\n",
       "      <td>20604808</td>\n",
       "      <td>2017-12-31 23:23:00</td>\n",
       "      <td>1241</td>\n",
       "      <td>3501</td>\n",
       "      <td>-498.0</td>\n",
       "      <td>Chip Transaction</td>\n",
       "      <td>59474</td>\n",
       "      <td>Brookville</td>\n",
       "      <td>OH</td>\n",
       "      <td>45309.0</td>\n",
       "      <td>3722</td>\n",
       "      <td>None</td>\n",
       "      <td>12</td>\n",
       "      <td>31</td>\n",
       "    </tr>\n",
       "  </tbody>\n",
       "</table>\n",
       "</div>"
      ],
      "text/plain": [
       "             id                date  client_id  card_id  amount  \\\n",
       "9461   12147446 2012-12-31 20:11:00       1781     3032  -498.0   \n",
       "23698  18881342 2016-12-31 22:24:00        631     2596  -498.0   \n",
       "27342  20604808 2017-12-31 23:23:00       1241     3501  -498.0   \n",
       "\n",
       "                use_chip  merchant_id merchant_city merchant_state      zip  \\\n",
       "9461   Swipe Transaction         3558        Goshen             IN  46526.0   \n",
       "23698  Swipe Transaction        57133       Waianae             HI  96792.0   \n",
       "27342   Chip Transaction        59474    Brookville             OH  45309.0   \n",
       "\n",
       "        mcc errors  month_transc  day_transc  \n",
       "9461   3640   None            12          31  \n",
       "23698  3730   None            12          31  \n",
       "27342  3722   None            12          31  "
      ]
     },
     "execution_count": 52,
     "metadata": {},
     "output_type": "execute_result"
    }
   ],
   "source": [
    "df_cond1"
   ]
  },
  {
   "cell_type": "code",
   "execution_count": 65,
   "metadata": {},
   "outputs": [],
   "source": [
    "df_query=pd.DataFrame(df_cond1[\"id\"])\n"
   ]
  },
  {
   "cell_type": "code",
   "execution_count": 66,
   "metadata": {},
   "outputs": [],
   "source": [
    "df_query.to_csv(\"query_3\",index=False)"
   ]
  },
  {
   "cell_type": "code",
   "execution_count": 67,
   "metadata": {},
   "outputs": [
    {
     "data": {
      "text/plain": [
       "'{\"id\":{\"9461\":12147446,\"23698\":18881342,\"27342\":20604808}}'"
      ]
     },
     "execution_count": 67,
     "metadata": {},
     "output_type": "execute_result"
    }
   ],
   "source": [
    "js_query=df_query.to_json(orient=\"columns\", index=None)\n",
    "js_query"
   ]
  },
  {
   "cell_type": "markdown",
   "metadata": {},
   "source": [
    "# Parte 3\n",
    "## Query 4:\n",
    "\n",
    "query_4: Which client over the age of 40 made the most transactions with a Visa card in February 2016? Please return the client_id, the card_id involved, and the total number of transactions.\n",
    "\n",
    "\n",
    "query_4: ¿Qué cliente mayor de 40 años realizó el mayor número de transacciones con una tarjeta Visa en febrero de 2016? Por favor, proporciona el client_id, el card_id involucrado, y el número total de transacciones.\n",
    "\n"
   ]
  },
  {
   "cell_type": "code",
   "execution_count": 37,
   "metadata": {},
   "outputs": [
    {
     "data": {
      "text/html": [
       "\n",
       "            <div>\n",
       "                <p><b>SparkSession - in-memory</b></p>\n",
       "                \n",
       "        <div>\n",
       "            <p><b>SparkContext</b></p>\n",
       "\n",
       "            <p><a href=\"http://LAPTOP-NPF8U9D3:4040\">Spark UI</a></p>\n",
       "\n",
       "            <dl>\n",
       "              <dt>Version</dt>\n",
       "                <dd><code>v3.5.3</code></dd>\n",
       "              <dt>Master</dt>\n",
       "                <dd><code>local[*]</code></dd>\n",
       "              <dt>AppName</dt>\n",
       "                <dd><code>Hackathon_query_4_transactions</code></dd>\n",
       "            </dl>\n",
       "        </div>\n",
       "        \n",
       "            </div>\n",
       "        "
      ],
      "text/plain": [
       "<pyspark.sql.session.SparkSession at 0x1ee86e0e440>"
      ]
     },
     "execution_count": 37,
     "metadata": {},
     "output_type": "execute_result"
    }
   ],
   "source": [
    "spark=SparkSession.builder.appName(\"Hackathon_query_4_transactions\").getOrCreate()\n",
    "spark"
   ]
  },
  {
   "cell_type": "code",
   "execution_count": 3,
   "metadata": {},
   "outputs": [],
   "source": [
    "df_transactions=spark.read.option(\"inferSchema\",\"true\").option(\"header\",\"true\").csv(\"transactions_data.csv\")"
   ]
  },
  {
   "cell_type": "code",
   "execution_count": 70,
   "metadata": {},
   "outputs": [
    {
     "name": "stdout",
     "output_type": "stream",
     "text": [
      "+-------+-------------------+---------+-------+-------+------------------+-----------+---------------+--------------+-------+----+------+\n",
      "|     id|               date|client_id|card_id| amount|          use_chip|merchant_id|  merchant_city|merchant_state|    zip| mcc|errors|\n",
      "+-------+-------------------+---------+-------+-------+------------------+-----------+---------------+--------------+-------+----+------+\n",
      "|7475327|2010-01-01 00:01:00|     1556|   2972|$-77.00| Swipe Transaction|      59935|         Beulah|            ND|58523.0|5499|  NULL|\n",
      "|7475328|2010-01-01 00:02:00|      561|   4575| $14.57| Swipe Transaction|      67570|     Bettendorf|            IA|52722.0|5311|  NULL|\n",
      "|7475329|2010-01-01 00:02:00|     1129|    102| $80.00| Swipe Transaction|      27092|          Vista|            CA|92084.0|4829|  NULL|\n",
      "|7475331|2010-01-01 00:05:00|      430|   2860|$200.00| Swipe Transaction|      27092|    Crown Point|            IN|46307.0|4829|  NULL|\n",
      "|7475332|2010-01-01 00:06:00|      848|   3915| $46.41| Swipe Transaction|      13051|        Harwood|            MD|20776.0|5813|  NULL|\n",
      "|7475333|2010-01-01 00:07:00|     1807|    165|  $4.81| Swipe Transaction|      20519|          Bronx|            NY|10464.0|5942|  NULL|\n",
      "|7475334|2010-01-01 00:09:00|     1556|   2972| $77.00| Swipe Transaction|      59935|         Beulah|            ND|58523.0|5499|  NULL|\n",
      "|7475335|2010-01-01 00:14:00|     1684|   2140| $26.46|Online Transaction|      39021|         ONLINE|          NULL|   NULL|4784|  NULL|\n",
      "|7475336|2010-01-01 00:21:00|      335|   5131|$261.58|Online Transaction|      50292|         ONLINE|          NULL|   NULL|7801|  NULL|\n",
      "|7475337|2010-01-01 00:21:00|      351|   1112| $10.74| Swipe Transaction|       3864|       Flushing|            NY|11355.0|5813|  NULL|\n",
      "|7475338|2010-01-01 00:23:00|      554|   3912|  $3.51| Swipe Transaction|      67570|       Pearland|            TX|77581.0|5311|  NULL|\n",
      "|7475339|2010-01-01 00:23:00|      605|   5061|  $2.58| Swipe Transaction|      75781|       Brooklyn|            NY|11210.0|5411|  NULL|\n",
      "|7475340|2010-01-01 00:26:00|     1556|   2972| $39.63| Swipe Transaction|      59935|         Beulah|            ND|58523.0|5499|  NULL|\n",
      "|7475341|2010-01-01 00:27:00|     1797|   1127| $43.33| Swipe Transaction|      33326|        Kahului|            HI|96732.0|4121|  NULL|\n",
      "|7475342|2010-01-01 00:30:00|      114|   3398| $49.42| Swipe Transaction|      61195|North Hollywood|            CA|91606.0|5541|  NULL|\n",
      "|7475343|2010-01-01 00:31:00|     1634|   2464|  $1.09| Swipe Transaction|      20519|     San Benito|            TX|78586.0|5942|  NULL|\n",
      "|7475344|2010-01-01 00:32:00|      646|   2093| $73.79| Swipe Transaction|       1636|           Erie|            PA|16511.0|7538|  NULL|\n",
      "|7475345|2010-01-01 00:32:00|     1129|   5492|$100.00| Swipe Transaction|      27092|          Vista|            CA|92084.0|4829|  NULL|\n",
      "|7475346|2010-01-01 00:34:00|      394|   4717| $26.04|Online Transaction|      39021|         ONLINE|          NULL|   NULL|4784|  NULL|\n",
      "|7475347|2010-01-01 00:36:00|      114|   3398|$-64.00| Swipe Transaction|      61195|North Hollywood|            CA|91606.0|5541|  NULL|\n",
      "+-------+-------------------+---------+-------+-------+------------------+-----------+---------------+--------------+-------+----+------+\n",
      "only showing top 20 rows\n",
      "\n"
     ]
    }
   ],
   "source": [
    "df_transactions.show()"
   ]
  },
  {
   "cell_type": "code",
   "execution_count": 4,
   "metadata": {},
   "outputs": [],
   "source": [
    "from pyspark.sql.functions import month , dayofmonth"
   ]
  },
  {
   "cell_type": "code",
   "execution_count": 18,
   "metadata": {},
   "outputs": [
    {
     "name": "stdout",
     "output_type": "stream",
     "text": [
      "+-------+-------------------+---------+-------+-------+------------------+-----------+-----------------+--------------+-------+----+------+\n",
      "|     id|               date|client_id|card_id| amount|          use_chip|merchant_id|    merchant_city|merchant_state|    zip| mcc|errors|\n",
      "+-------+-------------------+---------+-------+-------+------------------+-----------+-----------------+--------------+-------+----+------+\n",
      "|7656236|2010-02-16 00:01:00|      376|   1262| $39.81| Swipe Transaction|       8255|       Vincentown|            NJ| 8088.0|5813|  NULL|\n",
      "|7656237|2010-02-16 00:01:00|      554|   2424|  $3.08| Swipe Transaction|      13523|         La Porte|            TX|77571.0|5310|  NULL|\n",
      "|7656238|2010-02-16 00:01:00|      992|   5007|$120.00| Swipe Transaction|      27092|       South Hill|            VA|23970.0|4829|  NULL|\n",
      "|7656239|2010-02-16 00:01:00|     1797|   1127| $47.99| Swipe Transaction|      54343|      San Leandro|            CA|94577.0|4121|  NULL|\n",
      "|7656240|2010-02-16 00:05:00|     1332|   2406|$119.77|Online Transaction|      73186|           ONLINE|          NULL|   NULL|4814|  NULL|\n",
      "|7656241|2010-02-16 00:07:00|     1818|   4711|$194.22| Swipe Transaction|      96810|   Virginia Beach|            VA|23451.0|4900|  NULL|\n",
      "|7656242|2010-02-16 00:09:00|      287|   5783| $18.18| Swipe Transaction|      13523|         La Porte|            TX|77571.0|5310|  NULL|\n",
      "|7656243|2010-02-16 00:10:00|      379|   2019|  $3.75| Swipe Transaction|      90538|           Mobile|            AL|36693.0|5411|  NULL|\n",
      "|7656244|2010-02-16 00:10:00|      430|    150|$180.00| Swipe Transaction|      27092|      Crown Point|            IN|46307.0|4829|  NULL|\n",
      "|7656245|2010-02-16 00:14:00|      848|   3915| $67.94| Swipe Transaction|      15731|      Hattiesburg|            MS|39402.0|5813|  NULL|\n",
      "|7656246|2010-02-16 00:16:00|      316|     29| $54.50| Swipe Transaction|      69056|          Houston|            TX|77047.0|5912|  NULL|\n",
      "|7656247|2010-02-16 00:17:00|     1129|    102| $80.00| Swipe Transaction|      27092|Arlington Heights|            IL|60004.0|4829|  NULL|\n",
      "|7656248|2010-02-16 00:18:00|      641|     14|$105.21| Swipe Transaction|      75781|         Columbus|            OH|43228.0|5411|  NULL|\n",
      "|7656250|2010-02-16 00:18:00|     1684|   3278| $31.59|Online Transaction|      39021|           ONLINE|          NULL|   NULL|4784|  NULL|\n",
      "|7656252|2010-02-16 00:23:00|     1187|     91|$139.90|Online Transaction|      73186|           ONLINE|          NULL|   NULL|4814|  NULL|\n",
      "|7656253|2010-02-16 00:25:00|     1697|   3295|  $0.58| Swipe Transaction|      14318|          Clinton|            MI|49236.0|5411|  NULL|\n",
      "|7656254|2010-02-16 00:27:00|     1853|   1034|  $7.18| Swipe Transaction|      14537|        Maryville|            MO|64468.0|5912|  NULL|\n",
      "|7656255|2010-02-16 00:29:00|     1053|   2900|$156.77|Online Transaction|      17976|           ONLINE|          NULL|   NULL|4900|  NULL|\n",
      "|7656256|2010-02-16 00:32:00|     1133|   2586| $57.44| Swipe Transaction|      30286|        Rochester|            NY|14606.0|4814|  NULL|\n",
      "|7656257|2010-02-16 00:33:00|       32|   3850| $13.03| Swipe Transaction|      98374|        Adamsburg|            PA|15611.0|5411|  NULL|\n",
      "+-------+-------------------+---------+-------+-------+------------------+-----------+-----------------+--------------+-------+----+------+\n",
      "only showing top 20 rows\n",
      "\n"
     ]
    }
   ],
   "source": [
    "df_trans_feb_16=df_transactions.filter((month(df_transactions.date)== 2) & (dayofmonth(df_transactions.date)== 16))\n",
    "df_trans_feb_16.show()"
   ]
  },
  {
   "cell_type": "code",
   "execution_count": 19,
   "metadata": {},
   "outputs": [
    {
     "data": {
      "text/plain": [
       "37674"
      ]
     },
     "execution_count": 19,
     "metadata": {},
     "output_type": "execute_result"
    }
   ],
   "source": [
    "df_trans_feb_16.count()"
   ]
  },
  {
   "cell_type": "code",
   "execution_count": 20,
   "metadata": {},
   "outputs": [],
   "source": [
    "df_trans_feb_16=df_trans_feb_16.toPandas()"
   ]
  },
  {
   "cell_type": "code",
   "execution_count": 22,
   "metadata": {},
   "outputs": [],
   "source": [
    "df_trans_feb_16_copy=df_trans_feb_16.copy()"
   ]
  },
  {
   "cell_type": "code",
   "execution_count": 23,
   "metadata": {},
   "outputs": [
    {
     "name": "stdout",
     "output_type": "stream",
     "text": [
      "Muestra de datos:\n"
     ]
    },
    {
     "data": {
      "text/html": [
       "<div>\n",
       "<style scoped>\n",
       "    .dataframe tbody tr th:only-of-type {\n",
       "        vertical-align: middle;\n",
       "    }\n",
       "\n",
       "    .dataframe tbody tr th {\n",
       "        vertical-align: top;\n",
       "    }\n",
       "\n",
       "    .dataframe thead th {\n",
       "        text-align: right;\n",
       "    }\n",
       "</style>\n",
       "<table border=\"1\" class=\"dataframe\">\n",
       "  <thead>\n",
       "    <tr style=\"text-align: right;\">\n",
       "      <th></th>\n",
       "      <th>id</th>\n",
       "      <th>date</th>\n",
       "      <th>client_id</th>\n",
       "      <th>card_id</th>\n",
       "      <th>amount</th>\n",
       "      <th>use_chip</th>\n",
       "      <th>merchant_id</th>\n",
       "      <th>merchant_city</th>\n",
       "      <th>merchant_state</th>\n",
       "      <th>zip</th>\n",
       "      <th>mcc</th>\n",
       "      <th>errors</th>\n",
       "    </tr>\n",
       "  </thead>\n",
       "  <tbody>\n",
       "    <tr>\n",
       "      <th>5792</th>\n",
       "      <td>9163702</td>\n",
       "      <td>2011-02-16 15:09:00</td>\n",
       "      <td>619</td>\n",
       "      <td>4519</td>\n",
       "      <td>$60.33</td>\n",
       "      <td>Swipe Transaction</td>\n",
       "      <td>59935</td>\n",
       "      <td>Rochester</td>\n",
       "      <td>MN</td>\n",
       "      <td>55901.0</td>\n",
       "      <td>5499</td>\n",
       "      <td>None</td>\n",
       "    </tr>\n",
       "    <tr>\n",
       "      <th>22745</th>\n",
       "      <td>17388334</td>\n",
       "      <td>2016-02-16 07:19:00</td>\n",
       "      <td>802</td>\n",
       "      <td>5676</td>\n",
       "      <td>$80.36</td>\n",
       "      <td>Chip Transaction</td>\n",
       "      <td>32175</td>\n",
       "      <td>Penryn</td>\n",
       "      <td>CA</td>\n",
       "      <td>95663.0</td>\n",
       "      <td>7538</td>\n",
       "      <td>None</td>\n",
       "    </tr>\n",
       "  </tbody>\n",
       "</table>\n",
       "</div>"
      ],
      "text/plain": [
       "             id                date  client_id  card_id  amount  \\\n",
       "5792    9163702 2011-02-16 15:09:00        619     4519  $60.33   \n",
       "22745  17388334 2016-02-16 07:19:00        802     5676  $80.36   \n",
       "\n",
       "                use_chip  merchant_id merchant_city merchant_state      zip  \\\n",
       "5792   Swipe Transaction        59935     Rochester             MN  55901.0   \n",
       "22745   Chip Transaction        32175        Penryn             CA  95663.0   \n",
       "\n",
       "        mcc errors  \n",
       "5792   5499   None  \n",
       "22745  7538   None  "
      ]
     },
     "metadata": {},
     "output_type": "display_data"
    },
    {
     "name": "stdout",
     "output_type": "stream",
     "text": [
      "Columnas: 12\n",
      "Filas: 37674\n",
      "Valores duplicados:0\n",
      "Valores nulos encontrados:\n",
      "id                    0\n",
      "date                  0\n",
      "client_id             0\n",
      "card_id               0\n",
      "amount                0\n",
      "use_chip              0\n",
      "merchant_id           0\n",
      "merchant_city         0\n",
      "merchant_state     4407\n",
      "zip                4619\n",
      "mcc                   0\n",
      "errors            37118\n",
      "dtype: int64\n",
      "Información general:\n",
      "<class 'pandas.core.frame.DataFrame'>\n",
      "RangeIndex: 37674 entries, 0 to 37673\n",
      "Data columns (total 12 columns):\n",
      " #   Column          Non-Null Count  Dtype         \n",
      "---  ------          --------------  -----         \n",
      " 0   id              37674 non-null  int32         \n",
      " 1   date            37674 non-null  datetime64[ns]\n",
      " 2   client_id       37674 non-null  int32         \n",
      " 3   card_id         37674 non-null  int32         \n",
      " 4   amount          37674 non-null  object        \n",
      " 5   use_chip        37674 non-null  object        \n",
      " 6   merchant_id     37674 non-null  int32         \n",
      " 7   merchant_city   37674 non-null  object        \n",
      " 8   merchant_state  33267 non-null  object        \n",
      " 9   zip             33055 non-null  float64       \n",
      " 10  mcc             37674 non-null  int32         \n",
      " 11  errors          556 non-null    object        \n",
      "dtypes: datetime64[ns](1), float64(1), int32(5), object(5)\n",
      "memory usage: 2.7+ MB\n",
      "None\n"
     ]
    }
   ],
   "source": [
    "fun.eda_basico(df_trans_feb_16_copy)"
   ]
  },
  {
   "cell_type": "code",
   "execution_count": 26,
   "metadata": {},
   "outputs": [],
   "source": [
    "def limpieza_dollar(df,columna):\n",
    "    df[columna]=df[columna].str.replace(\"$\",\"\")\n",
    "    df[columna]=df[columna].astype(float)\n",
    "    return df"
   ]
  },
  {
   "cell_type": "code",
   "execution_count": 27,
   "metadata": {},
   "outputs": [],
   "source": [
    "df_trans_feb_16=limpieza_dollar(df_trans_feb_16, \"amount\")"
   ]
  },
  {
   "cell_type": "code",
   "execution_count": 28,
   "metadata": {},
   "outputs": [
    {
     "name": "stdout",
     "output_type": "stream",
     "text": [
      "<class 'pandas.core.frame.DataFrame'>\n",
      "RangeIndex: 37674 entries, 0 to 37673\n",
      "Data columns (total 12 columns):\n",
      " #   Column          Non-Null Count  Dtype         \n",
      "---  ------          --------------  -----         \n",
      " 0   id              37674 non-null  int32         \n",
      " 1   date            37674 non-null  datetime64[ns]\n",
      " 2   client_id       37674 non-null  int32         \n",
      " 3   card_id         37674 non-null  int32         \n",
      " 4   amount          37674 non-null  float64       \n",
      " 5   use_chip        37674 non-null  object        \n",
      " 6   merchant_id     37674 non-null  int32         \n",
      " 7   merchant_city   37674 non-null  object        \n",
      " 8   merchant_state  33267 non-null  object        \n",
      " 9   zip             33055 non-null  float64       \n",
      " 10  mcc             37674 non-null  int32         \n",
      " 11  errors          556 non-null    object        \n",
      "dtypes: datetime64[ns](1), float64(2), int32(5), object(4)\n",
      "memory usage: 2.7+ MB\n"
     ]
    }
   ],
   "source": [
    "df_trans_feb_16.info()"
   ]
  },
  {
   "cell_type": "code",
   "execution_count": 29,
   "metadata": {},
   "outputs": [],
   "source": [
    "df_trans_feb_16_copy.rename(columns={\"id\":\"transaction_id\"}, inplace=True)"
   ]
  },
  {
   "cell_type": "code",
   "execution_count": 30,
   "metadata": {},
   "outputs": [],
   "source": [
    "df_data_client_card_merge=pd.read_csv(\"users_card_final.csv\")"
   ]
  },
  {
   "cell_type": "code",
   "execution_count": 33,
   "metadata": {},
   "outputs": [],
   "source": [
    "df_trans_16_feb_merge=df_trans_feb_16_copy.merge(df_data_client_card_merge, left_on=\"client_id\",right_on=\"client_id\")"
   ]
  },
  {
   "cell_type": "code",
   "execution_count": 35,
   "metadata": {},
   "outputs": [
    {
     "name": "stdout",
     "output_type": "stream",
     "text": [
      "<class 'pandas.core.frame.DataFrame'>\n",
      "RangeIndex: 144509 entries, 0 to 144508\n",
      "Data columns (total 41 columns):\n",
      " #   Column                 Non-Null Count   Dtype         \n",
      "---  ------                 --------------   -----         \n",
      " 0   transaction_id         144509 non-null  int32         \n",
      " 1   date                   144509 non-null  datetime64[ns]\n",
      " 2   client_id              144509 non-null  int32         \n",
      " 3   card_id_x              144509 non-null  int32         \n",
      " 4   amount                 144509 non-null  object        \n",
      " 5   use_chip               144509 non-null  object        \n",
      " 6   merchant_id            144509 non-null  int32         \n",
      " 7   merchant_city          144509 non-null  object        \n",
      " 8   merchant_state         127723 non-null  object        \n",
      " 9   zip                    126955 non-null  float64       \n",
      " 10  mcc                    144509 non-null  int32         \n",
      " 11  errors                 2114 non-null    object        \n",
      " 12  current_age            144509 non-null  int64         \n",
      " 13  retirement_age         144509 non-null  int64         \n",
      " 14  birth_year             144509 non-null  int64         \n",
      " 15  birth_month            144509 non-null  int64         \n",
      " 16  gender                 144509 non-null  object        \n",
      " 17  address                144509 non-null  object        \n",
      " 18  latitude               144509 non-null  float64       \n",
      " 19  longitude              144509 non-null  float64       \n",
      " 20  per_capita_income      144509 non-null  int64         \n",
      " 21  yearly_income          144509 non-null  int64         \n",
      " 22  total_debt             144509 non-null  int64         \n",
      " 23  credit_score           144509 non-null  int64         \n",
      " 24  num_credit_cards       144509 non-null  int64         \n",
      " 25  card_id_y              144509 non-null  int64         \n",
      " 26  card_brand             144509 non-null  object        \n",
      " 27  card_type              144509 non-null  object        \n",
      " 28  card_number            144509 non-null  int64         \n",
      " 29  expires                144509 non-null  object        \n",
      " 30  cvv                    144509 non-null  int64         \n",
      " 31  has_chip               144509 non-null  object        \n",
      " 32  num_cards_issued       144509 non-null  int64         \n",
      " 33  credit_limit           144509 non-null  int64         \n",
      " 34  acct_open_date         144509 non-null  object        \n",
      " 35  year_pin_last_changed  144509 non-null  int64         \n",
      " 36  card_on_dark_web       144509 non-null  object        \n",
      " 37  month_acct_open_date   144509 non-null  int64         \n",
      " 38  year_acct_open_date    144509 non-null  int64         \n",
      " 39  month_expires          144509 non-null  int64         \n",
      " 40  year_expires           144509 non-null  int64         \n",
      "dtypes: datetime64[ns](1), float64(3), int32(5), int64(19), object(13)\n",
      "memory usage: 42.4+ MB\n"
     ]
    }
   ],
   "source": [
    "df_trans_16_feb_merge.info()"
   ]
  },
  {
   "cell_type": "code",
   "execution_count": 36,
   "metadata": {},
   "outputs": [],
   "source": [
    "df_trans_16_feb_merge.drop([\"card_id_x\"], axis=\"columns\",inplace=True)"
   ]
  },
  {
   "cell_type": "code",
   "execution_count": 38,
   "metadata": {},
   "outputs": [],
   "source": [
    "df_trans_16_feb_merge.to_csv(\"transactions_client_cards_16_febrero.csv\")"
   ]
  },
  {
   "cell_type": "code",
   "execution_count": 40,
   "metadata": {},
   "outputs": [],
   "source": [
    "df_transactions_16=spark.read.option(\"inferSchema\",\"true\").option(\"header\",\"true\").csv(\"transactions_client_cards_16_febrero.csv\")"
   ]
  },
  {
   "cell_type": "code",
   "execution_count": 41,
   "metadata": {},
   "outputs": [
    {
     "name": "stdout",
     "output_type": "stream",
     "text": [
      "+---+--------------+-------------------+---------+-------+------------------+-----------+-------------+--------------+-------+----+------+-----------+--------------+----------+-----------+------+--------------------+--------+---------+-----------------+-------------+----------+------------+----------------+---------+----------+---------------+----------------+-------+---+--------+----------------+------------+--------------+---------------------+----------------+--------------------+-------------------+-------------+------------+\n",
      "|_c0|transaction_id|               date|client_id| amount|          use_chip|merchant_id|merchant_city|merchant_state|    zip| mcc|errors|current_age|retirement_age|birth_year|birth_month|gender|             address|latitude|longitude|per_capita_income|yearly_income|total_debt|credit_score|num_credit_cards|card_id_y|card_brand|      card_type|     card_number|expires|cvv|has_chip|num_cards_issued|credit_limit|acct_open_date|year_pin_last_changed|card_on_dark_web|month_acct_open_date|year_acct_open_date|month_expires|year_expires|\n",
      "+---+--------------+-------------------+---------+-------+------------------+-----------+-------------+--------------+-------+----+------+-----------+--------------+----------+-----------+------+--------------------+--------+---------+-----------------+-------------+----------+------------+----------------+---------+----------+---------------+----------------+-------+---+--------+----------------+------------+--------------+---------------------+----------------+--------------------+-------------------+-------------+------------+\n",
      "|  0|       7656236|2010-02-16 00:01:00|      376| $39.81| Swipe Transaction|       8255|   Vincentown|            NJ| 8088.0|5813|  NULL|         50|            74|      1969|          4|Female|       818 12th Lane|    39.8|   -74.62|            28433|        57975|     34570|         773|               4|      118|      Visa|         Credit|4472791439889132|10/2020|900|     YES|               2|       25300|       01/2006|                 2009|              No|                   1|               2006|           10|        2020|\n",
      "|  1|       7656236|2010-02-16 00:01:00|      376| $39.81| Swipe Transaction|       8255|   Vincentown|            NJ| 8088.0|5813|  NULL|         50|            74|      1969|          4|Female|       818 12th Lane|    39.8|   -74.62|            28433|        57975|     34570|         773|               4|     1262|      Visa|          Debit|4961188850895805|08/2021|629|      NO|               1|       28884|       02/2010|                 2015|              No|                   2|               2010|            8|        2021|\n",
      "|  2|       7656236|2010-02-16 00:01:00|      376| $39.81| Swipe Transaction|       8255|   Vincentown|            NJ| 8088.0|5813|  NULL|         50|            74|      1969|          4|Female|       818 12th Lane|    39.8|   -74.62|            28433|        57975|     34570|         773|               4|     4704|      Visa|          Debit|4061229587825801|08/2024|127|     YES|               1|        2696|       09/2008|                 2013|              No|                   9|               2008|            8|        2024|\n",
      "|  3|       7656236|2010-02-16 00:01:00|      376| $39.81| Swipe Transaction|       8255|   Vincentown|            NJ| 8088.0|5813|  NULL|         50|            74|      1969|          4|Female|       818 12th Lane|    39.8|   -74.62|            28433|        57975|     34570|         773|               4|      325|      Visa|         Credit|4846362912981071|03/2013|650|     YES|               1|        9200|       01/2013|                 2013|              No|                   1|               2013|            3|        2013|\n",
      "|  4|       7656237|2010-02-16 00:01:00|      554|  $3.08| Swipe Transaction|      13523|     La Porte|            TX|77571.0|5310|  NULL|         59|            67|      1960|          8|  Male|   6310 Sixth Street|   29.66|   -95.04|            26170|        53357|    114266|         690|               5|     2424|      Visa|Debit (Prepaid)|4356014925676102|07/2020|139|     YES|               2|          56|       04/2001|                 2011|              No|                   4|               2001|            7|        2020|\n",
      "|  5|       7656237|2010-02-16 00:01:00|      554|  $3.08| Swipe Transaction|      13523|     La Porte|            TX|77571.0|5310|  NULL|         59|            67|      1960|          8|  Male|   6310 Sixth Street|   29.66|   -95.04|            26170|        53357|    114266|         690|               5|     2308|      Visa|          Debit|4439649579256628|01/2021|327|     YES|               2|       27376|       03/2012|                 2012|              No|                   3|               2012|            1|        2021|\n",
      "|  6|       7656237|2010-02-16 00:01:00|      554|  $3.08| Swipe Transaction|      13523|     La Porte|            TX|77571.0|5310|  NULL|         59|            67|      1960|          8|  Male|   6310 Sixth Street|   29.66|   -95.04|            26170|        53357|    114266|         690|               5|     6070|Mastercard|          Debit|5140694561445565|07/2019|960|     YES|               2|       32676|       12/2012|                 2012|              No|                  12|               2012|            7|        2019|\n",
      "|  7|       7656237|2010-02-16 00:01:00|      554|  $3.08| Swipe Transaction|      13523|     La Porte|            TX|77571.0|5310|  NULL|         59|            67|      1960|          8|  Male|   6310 Sixth Street|   29.66|   -95.04|            26170|        53357|    114266|         690|               5|     3912|      Visa|          Debit|4096589319918041|04/2021|856|      NO|               1|       25658|       07/2009|                 2009|              No|                   7|               2009|            4|        2021|\n",
      "|  8|       7656237|2010-02-16 00:01:00|      554|  $3.08| Swipe Transaction|      13523|     La Porte|            TX|77571.0|5310|  NULL|         59|            67|      1960|          8|  Male|   6310 Sixth Street|   29.66|   -95.04|            26170|        53357|    114266|         690|               5|     4275|      Visa|         Credit|4796299187967541|05/2018|852|      NO|               2|       22800|       08/2008|                 2011|              No|                   8|               2008|            5|        2018|\n",
      "|  9|       7656238|2010-02-16 00:01:00|      992|$120.00| Swipe Transaction|      27092|   South Hill|            VA|23970.0|4829|  NULL|         46|            70|      1973|          4|  Male|  574 Norfolk Street|   37.37|    -77.5|            26918|        54881|      3584|         700|               4|     5007|Mastercard|         Credit|5113385398145640|03/2011| 64|     YES|               1|       20800|       10/2004|                 2007|              No|                  10|               2004|            3|        2011|\n",
      "| 10|       7656238|2010-02-16 00:01:00|      992|$120.00| Swipe Transaction|      27092|   South Hill|            VA|23970.0|4829|  NULL|         46|            70|      1973|          4|  Male|  574 Norfolk Street|   37.37|    -77.5|            26918|        54881|      3584|         700|               4|     4511|Mastercard|         Credit|5848472394865253|10/2020| 65|     YES|               2|        9000|       09/2001|                 2010|              No|                   9|               2001|           10|        2020|\n",
      "| 11|       7656238|2010-02-16 00:01:00|      992|$120.00| Swipe Transaction|      27092|   South Hill|            VA|23970.0|4829|  NULL|         46|            70|      1973|          4|  Male|  574 Norfolk Street|   37.37|    -77.5|            26918|        54881|      3584|         700|               4|     4928|Mastercard|         Credit|5691724269449732|03/2024| 70|      NO|               1|       13100|       10/1996|                 2012|              No|                  10|               1996|            3|        2024|\n",
      "| 12|       7656238|2010-02-16 00:01:00|      992|$120.00| Swipe Transaction|      27092|   South Hill|            VA|23970.0|4829|  NULL|         46|            70|      1973|          4|  Male|  574 Norfolk Street|   37.37|    -77.5|            26918|        54881|      3584|         700|               4|     3108|      Visa|          Debit|4374177951721878|12/2023|692|      NO|               2|       23636|       05/2011|                 2013|              No|                   5|               2011|           12|        2023|\n",
      "| 13|       7656239|2010-02-16 00:01:00|     1797| $47.99| Swipe Transaction|      54343|  San Leandro|            CA|94577.0|4121|  NULL|         67|            65|      1952|         11|  Male|391 Martin Luther...|   37.71|  -122.16|            24971|        30962|     15336|         743|               5|      299|Mastercard|          Debit|5586398791957987|03/2022|828|     YES|               1|       27243|       01/2012|                 2012|              No|                   1|               2012|            3|        2022|\n",
      "| 14|       7656239|2010-02-16 00:01:00|     1797| $47.99| Swipe Transaction|      54343|  San Leandro|            CA|94577.0|4121|  NULL|         67|            65|      1952|         11|  Male|391 Martin Luther...|   37.71|  -122.16|            24971|        30962|     15336|         743|               5|     1127|      Visa|          Debit|4777281869545650|02/2017|256|     YES|               2|       23237|       02/2007|                 2009|              No|                   2|               2007|            2|        2017|\n",
      "| 15|       7656239|2010-02-16 00:01:00|     1797| $47.99| Swipe Transaction|      54343|  San Leandro|            CA|94577.0|4121|  NULL|         67|            65|      1952|         11|  Male|391 Martin Luther...|   37.71|  -122.16|            24971|        30962|     15336|         743|               5|     5660|      Visa|          Debit|4144623277980192|10/2022|645|     YES|               2|       16008|       11/2011|                 2011|              No|                  11|               2011|           10|        2022|\n",
      "| 16|       7656239|2010-02-16 00:01:00|     1797| $47.99| Swipe Transaction|      54343|  San Leandro|            CA|94577.0|4121|  NULL|         67|            65|      1952|         11|  Male|391 Martin Luther...|   37.71|  -122.16|            24971|        30962|     15336|         743|               5|      300|Mastercard|          Debit|5535701151074664|02/2022|987|     YES|               1|       16279|       01/2012|                 2012|              No|                   1|               2012|            2|        2022|\n",
      "| 17|       7656239|2010-02-16 00:01:00|     1797| $47.99| Swipe Transaction|      54343|  San Leandro|            CA|94577.0|4121|  NULL|         67|            65|      1952|         11|  Male|391 Martin Luther...|   37.71|  -122.16|            24971|        30962|     15336|         743|               5|     4853|Mastercard|          Debit|5669514318855142|11/2014|958|      NO|               1|       16003|       09/2013|                 2013|              No|                   9|               2013|           11|        2014|\n",
      "| 18|       7656240|2010-02-16 00:05:00|     1332|$119.77|Online Transaction|      73186|       ONLINE|          NULL|   NULL|4814|  NULL|         63|            68|      1956|          6|  Male|      547 West Drive|    41.0|   -73.66|            35269|        71909|     44190|         712|               3|     5666|      Visa|          Debit|4692209881034936|10/2024|841|     YES|               1|       40914|       11/2011|                 2011|              No|                  11|               2011|           10|        2024|\n",
      "| 19|       7656240|2010-02-16 00:05:00|     1332|$119.77|Online Transaction|      73186|       ONLINE|          NULL|   NULL|4814|  NULL|         63|            68|      1956|          6|  Male|      547 West Drive|    41.0|   -73.66|            35269|        71909|     44190|         712|               3|     2406|      Visa|          Debit|4733764906350562|09/2021|982|     YES|               1|       21749|       04/1999|                 2008|              No|                   4|               1999|            9|        2021|\n",
      "+---+--------------+-------------------+---------+-------+------------------+-----------+-------------+--------------+-------+----+------+-----------+--------------+----------+-----------+------+--------------------+--------+---------+-----------------+-------------+----------+------------+----------------+---------+----------+---------------+----------------+-------+---+--------+----------------+------------+--------------+---------------------+----------------+--------------------+-------------------+-------------+------------+\n",
      "only showing top 20 rows\n",
      "\n"
     ]
    }
   ],
   "source": [
    "df_transactions_16.show()"
   ]
  },
  {
   "cell_type": "code",
   "execution_count": 58,
   "metadata": {},
   "outputs": [
    {
     "name": "stdout",
     "output_type": "stream",
     "text": [
      "+---+--------------+-------------------+---------+-------+-----------------+-----------+--------------+--------------+-------+----+--------------------+-----------+--------------+----------+-----------+------+--------------------+--------+---------+-----------------+-------------+----------+------------+----------------+---------+----------+---------------+----------------+-------+---+--------+----------------+------------+--------------+---------------------+----------------+--------------------+-------------------+-------------+------------+\n",
      "|_c0|transaction_id|               date|client_id| amount|         use_chip|merchant_id| merchant_city|merchant_state|    zip| mcc|              errors|current_age|retirement_age|birth_year|birth_month|gender|             address|latitude|longitude|per_capita_income|yearly_income|total_debt|credit_score|num_credit_cards|card_id_y|card_brand|      card_type|     card_number|expires|cvv|has_chip|num_cards_issued|credit_limit|acct_open_date|year_pin_last_changed|card_on_dark_web|month_acct_open_date|year_acct_open_date|month_expires|year_expires|\n",
      "+---+--------------+-------------------+---------+-------+-----------------+-----------+--------------+--------------+-------+----+--------------------+-----------+--------------+----------+-----------+------+--------------------+--------+---------+-----------------+-------------+----------+------------+----------------+---------+----------+---------------+----------------+-------+---+--------+----------------+------------+--------------+---------------------+----------------+--------------------+-------------------+-------------+------------+\n",
      "|190|       7656291|2010-02-16 01:38:00|       63| $50.02|Swipe Transaction|      72593|        Newark|            NJ| 7103.0|7538|                NULL|         40|            64|      1979|         12|  Male|    390 Tenth Street|   40.72|   -74.17|            17370|        35418|     51741|         660|               6|      397|      Amex|         Credit| 356226851008135|01/2020|792|      NO|               1|        6600|       01/2020|                 2020|              No|                   1|               2020|            1|        2020|\n",
      "|191|       7656291|2010-02-16 01:38:00|       63| $50.02|Swipe Transaction|      72593|        Newark|            NJ| 7103.0|7538|                NULL|         40|            64|      1979|         12|  Male|    390 Tenth Street|   40.72|   -74.17|            17370|        35418|     51741|         660|               6|     2805|      Visa|          Debit|4128926575959194|06/2020|827|     YES|               1|       23806|       05/1999|                 2008|              No|                   5|               1999|            6|        2020|\n",
      "|192|       7656291|2010-02-16 01:38:00|       63| $50.02|Swipe Transaction|      72593|        Newark|            NJ| 7103.0|7538|                NULL|         40|            64|      1979|         12|  Male|    390 Tenth Street|   40.72|   -74.17|            17370|        35418|     51741|         660|               6|       60|      Visa|          Debit|4840372814737208|11/2022|357|     YES|               2|       17082|       01/2004|                 2011|              No|                   1|               2004|           11|        2022|\n",
      "|193|       7656291|2010-02-16 01:38:00|       63| $50.02|Swipe Transaction|      72593|        Newark|            NJ| 7103.0|7538|                NULL|         40|            64|      1979|         12|  Male|    390 Tenth Street|   40.72|   -74.17|            17370|        35418|     51741|         660|               6|     5489|Mastercard|          Debit|5573468131965566|09/2024|258|     YES|               1|       16422|       11/2007|                 2011|              No|                  11|               2007|            9|        2024|\n",
      "|194|       7656291|2010-02-16 01:38:00|       63| $50.02|Swipe Transaction|      72593|        Newark|            NJ| 7103.0|7538|                NULL|         40|            64|      1979|         12|  Male|    390 Tenth Street|   40.72|   -74.17|            17370|        35418|     51741|         660|               6|     4632|Mastercard|          Debit|5566429737412055|04/2024|  6|     YES|               1|       15353|       09/2007|                 2011|              No|                   9|               2007|            4|        2024|\n",
      "|195|       7656291|2010-02-16 01:38:00|       63| $50.02|Swipe Transaction|      72593|        Newark|            NJ| 7103.0|7538|                NULL|         40|            64|      1979|         12|  Male|    390 Tenth Street|   40.72|   -74.17|            17370|        35418|     51741|         660|               6|     4067|Mastercard|Debit (Prepaid)|5570187893542298|07/2024|610|     YES|               1|          66|       07/2018|                 2018|              No|                   7|               2018|            7|        2024|\n",
      "|546|       7656399|2010-02-16 05:04:00|     1789| $60.00|Swipe Transaction|      27092|   Terre Haute|            IN|47803.0|4829|                NULL|         40|            65|      1979|          3|Female|   57 West Boulevard|   38.22|   -86.86|            18898|        38527|     36933|         684|               2|      367|Mastercard|          Debit|5969880085380237|03/2024|832|     YES|               1|       12564|       01/2018|                 2018|              No|                   1|               2018|            3|        2024|\n",
      "|547|       7656399|2010-02-16 05:04:00|     1789| $60.00|Swipe Transaction|      27092|   Terre Haute|            IN|47803.0|4829|                NULL|         40|            65|      1979|          3|Female|   57 West Boulevard|   38.22|   -86.86|            18898|        38527|     36933|         684|               2|     5130|      Visa|          Debit|4719376429761062|05/2021|716|     YES|               1|       15981|       10/2008|                 2008|              No|                  10|               2008|            5|        2021|\n",
      "|564|       7656403|2010-02-16 05:10:00|      190|$163.63|Swipe Transaction|       3997|  Spring Grove|            IL|60081.0|4111|                NULL|         40|            67|      1979|          4|  Male|5468 Little Creek...|   42.03|   -87.73|            21801|        44452|     12409|         711|               5|     2088|Mastercard|          Debit|5442893744984249|06/2019|926|     YES|               2|       29471|       03/2005|                 2011|              No|                   3|               2005|            6|        2019|\n",
      "|565|       7656403|2010-02-16 05:10:00|      190|$163.63|Swipe Transaction|       3997|  Spring Grove|            IL|60081.0|4111|                NULL|         40|            67|      1979|          4|  Male|5468 Little Creek...|   42.03|   -87.73|            21801|        44452|     12409|         711|               5|     2496|      Visa|         Credit|4273233611719444|10/2014|602|     YES|               1|       17700|       04/2005|                 2010|              No|                   4|               2005|           10|        2014|\n",
      "|566|       7656403|2010-02-16 05:10:00|      190|$163.63|Swipe Transaction|       3997|  Spring Grove|            IL|60081.0|4111|                NULL|         40|            67|      1979|          4|  Male|5468 Little Creek...|   42.03|   -87.73|            21801|        44452|     12409|         711|               5|     3851|Mastercard|          Debit|5036287741782216|04/2023|791|     YES|               2|       11969|       07/2008|                 2008|              No|                   7|               2008|            4|        2023|\n",
      "|567|       7656403|2010-02-16 05:10:00|      190|$163.63|Swipe Transaction|       3997|  Spring Grove|            IL|60081.0|4111|                NULL|         40|            67|      1979|          4|  Male|5468 Little Creek...|   42.03|   -87.73|            21801|        44452|     12409|         711|               5|     3363|      Visa|          Debit|4685370244169283|04/2022|311|     YES|               2|        7946|       06/2007|                 2014|              No|                   6|               2007|            4|        2022|\n",
      "|568|       7656403|2010-02-16 05:10:00|      190|$163.63|Swipe Transaction|       3997|  Spring Grove|            IL|60081.0|4111|                NULL|         40|            67|      1979|          4|  Male|5468 Little Creek...|   42.03|   -87.73|            21801|        44452|     12409|         711|               5|     4621|      Visa|Debit (Prepaid)|4616391251053035|06/2011|600|     YES|               1|          41|       09/2006|                 2017|              No|                   9|               2006|            6|        2011|\n",
      "|577|       7656408|2010-02-16 05:21:00|     1957| $82.78|Swipe Transaction|      79708|Woodland Hills|            CA|91364.0|5912|                NULL|         40|            74|      1979|          9|  Male|    1977 Lake Avenue|   34.15|   -118.6|            47055|        95945|    222735|         772|               2|     3759|Mastercard|Debit (Prepaid)|5878511318941183|10/2006|699|     YES|               1|          26|       07/2006|                 2019|              No|                   7|               2006|           10|        2006|\n",
      "|578|       7656408|2010-02-16 05:21:00|     1957| $82.78|Swipe Transaction|      79708|Woodland Hills|            CA|91364.0|5912|                NULL|         40|            74|      1979|          9|  Male|    1977 Lake Avenue|   34.15|   -118.6|            47055|        95945|    222735|         772|               2|     5483|Mastercard|         Credit|5825403139414547|05/2013|531|     YES|               2|       16300|       11/2007|                 2009|              No|                  11|               2007|            5|        2013|\n",
      "|641|       7656430|2010-02-16 05:36:00|      832|$153.34|Swipe Transaction|      79896|      Mckinney|            TX|75069.0|4900|Insufficient Balance|         40|            67|      1979|          5|Female|     8799 Elm Avenue|    33.2|   -96.65|            24684|        50329|     76759|         625|               4|     3548|Mastercard|         Credit|5218196083865154|10/2024|647|     YES|               1|       10900|       06/2012|                 2012|              No|                   6|               2012|           10|        2024|\n",
      "|642|       7656430|2010-02-16 05:36:00|      832|$153.34|Swipe Transaction|      79896|      Mckinney|            TX|75069.0|4900|Insufficient Balance|         40|            67|      1979|          5|Female|     8799 Elm Avenue|    33.2|   -96.65|            24684|        50329|     76759|         625|               4|     2948|      Visa|          Debit|4981253351585415|09/2022|351|     YES|               1|       23260|       05/2007|                 2010|              No|                   5|               2007|            9|        2022|\n",
      "|643|       7656430|2010-02-16 05:36:00|      832|$153.34|Swipe Transaction|      79896|      Mckinney|            TX|75069.0|4900|Insufficient Balance|         40|            67|      1979|          5|Female|     8799 Elm Avenue|    33.2|   -96.65|            24684|        50329|     76759|         625|               4|     3107|      Visa|          Debit|4295278548240324|07/2024|380|      NO|               1|       20776|       05/2011|                 2011|              No|                   5|               2011|            7|        2024|\n",
      "|644|       7656430|2010-02-16 05:36:00|      832|$153.34|Swipe Transaction|      79896|      Mckinney|            TX|75069.0|4900|Insufficient Balance|         40|            67|      1979|          5|Female|     8799 Elm Avenue|    33.2|   -96.65|            24684|        50329|     76759|         625|               4|      570|Mastercard|          Debit|5355282965831676|02/2020|110|     YES|               2|       15741|       01/2020|                 2020|              No|                   1|               2020|            2|        2020|\n",
      "|680|       7656445|2010-02-16 05:48:00|      832|$147.22|Swipe Transaction|      79896|      Mckinney|            TX|75069.0|4900|                NULL|         40|            67|      1979|          5|Female|     8799 Elm Avenue|    33.2|   -96.65|            24684|        50329|     76759|         625|               4|     3548|Mastercard|         Credit|5218196083865154|10/2024|647|     YES|               1|       10900|       06/2012|                 2012|              No|                   6|               2012|           10|        2024|\n",
      "+---+--------------+-------------------+---------+-------+-----------------+-----------+--------------+--------------+-------+----+--------------------+-----------+--------------+----------+-----------+------+--------------------+--------+---------+-----------------+-------------+----------+------------+----------------+---------+----------+---------------+----------------+-------+---+--------+----------------+------------+--------------+---------------------+----------------+--------------------+-------------------+-------------+------------+\n",
      "only showing top 20 rows\n",
      "\n"
     ]
    }
   ],
   "source": [
    "df_40=df_transactions_16.filter(df_transactions_16.current_age == 40).show()"
   ]
  },
  {
   "cell_type": "code",
   "execution_count": 42,
   "metadata": {},
   "outputs": [],
   "source": [
    "df_transactions_16.createOrReplaceTempView(\"table_trans\")"
   ]
  },
  {
   "cell_type": "code",
   "execution_count": 90,
   "metadata": {},
   "outputs": [],
   "source": [
    "consulta=\"\"\" SELECT client_id, card_id_y, count(transaction_id) AS total_transacciones\n",
    "FROM table_trans\n",
    "WHERE current_age = 40\n",
    "GROUP BY client_id, card_id_y\n",
    "ORDER BY total_transacciones DESC\n",
    "LIMIT 1\n",
    "\"\"\""
   ]
  },
  {
   "cell_type": "code",
   "execution_count": 91,
   "metadata": {},
   "outputs": [
    {
     "name": "stdout",
     "output_type": "stream",
     "text": [
      "+---------+---------+-------------------+\n",
      "|client_id|card_id_y|total_transacciones|\n",
      "+---------+---------+-------------------+\n",
      "|      190|     3363|                 74|\n",
      "+---------+---------+-------------------+\n",
      "\n"
     ]
    }
   ],
   "source": [
    "df_query_4=spark.sql(consulta)\n",
    "df_query_4.show()"
   ]
  },
  {
   "cell_type": "code",
   "execution_count": 93,
   "metadata": {},
   "outputs": [
    {
     "data": {
      "text/plain": [
       "['client_id', 'card_id_y', 'total_transacciones']"
      ]
     },
     "execution_count": 93,
     "metadata": {},
     "output_type": "execute_result"
    }
   ],
   "source": [
    "df_query_4.columns"
   ]
  },
  {
   "cell_type": "code",
   "execution_count": 94,
   "metadata": {},
   "outputs": [],
   "source": [
    "def final_query(df, query):\n",
    "    df_query=df.toPandas()\n",
    "    df_query.to_csv(query,index=False)\n",
    "    js_query=df_query.to_json(orient=\"records\")\n",
    "    return js_query"
   ]
  },
  {
   "cell_type": "code",
   "execution_count": 95,
   "metadata": {},
   "outputs": [
    {
     "data": {
      "text/plain": [
       "'[{\"client_id\":190,\"card_id_y\":3363,\"total_transacciones\":74}]'"
      ]
     },
     "execution_count": 95,
     "metadata": {},
     "output_type": "execute_result"
    }
   ],
   "source": [
    "\n",
    "final_query(df_query_4, \"query_4\")"
   ]
  }
 ],
 "metadata": {
  "kernelspec": {
   "display_name": "Python 3",
   "language": "python",
   "name": "python3"
  },
  "language_info": {
   "codemirror_mode": {
    "name": "ipython",
    "version": 3
   },
   "file_extension": ".py",
   "mimetype": "text/x-python",
   "name": "python",
   "nbconvert_exporter": "python",
   "pygments_lexer": "ipython3",
   "version": "3.10.6"
  }
 },
 "nbformat": 4,
 "nbformat_minor": 2
}
